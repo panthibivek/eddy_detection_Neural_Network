{
 "cells": [
  {
   "cell_type": "code",
   "execution_count": 1,
   "metadata": {},
   "outputs": [
    {
     "name": "stderr",
     "output_type": "stream",
     "text": [
      "2022-04-17 21:09:36.443429: W tensorflow/stream_executor/platform/default/dso_loader.cc:64] Could not load dynamic library 'libcudart.so.11.0'; dlerror: libcudart.so.11.0: cannot open shared object file: No such file or directory; LD_LIBRARY_PATH: /global/AWIsoft/proj/4.9.3/lib:/global/AWIsoft/intel//2018/intelpython2/lib\n",
      "2022-04-17 21:09:36.443460: I tensorflow/stream_executor/cuda/cudart_stub.cc:29] Ignore above cudart dlerror if you do not have a GPU set up on your machine.\n"
     ]
    }
   ],
   "source": [
    "from IPython.core.interactiveshell import InteractiveShell\n",
    "InteractiveShell.ast_node_interactivity = \"all\"\n",
    "# to output everything in a cell instead of only the last output\n",
    "\n",
    "# standard imports\n",
    "from tensorflow import keras\n",
    "import numpy as np\n",
    "from tensorflow.keras.preprocessing.image import load_img\n",
    "from tensorflow.keras import layers\n",
    "import random\n",
    "from sklearn import preprocessing\n",
    "from keras.callbacks import History\n",
    "import matplotlib.pyplot as plt\n",
    "from keras.utils import np_utils\n",
    "import os\n",
    "from tensorflow.keras.optimizers import Adam\n",
    "from plain_neural_network import*\n",
    "from keras import backend as K\n",
    "\n",
    "%matplotlib inline"
   ]
  },
  {
   "cell_type": "code",
   "execution_count": 2,
   "metadata": {},
   "outputs": [
    {
     "data": {
      "text/plain": [
       "'/work/ollie/bpanthi/nn_interpolation_new/ssh_gridded_1963_001_06_new.nc'"
      ]
     },
     "execution_count": 2,
     "metadata": {},
     "output_type": "execute_result"
    },
    {
     "data": {
      "text/plain": [
       "'/work/ollie/bpanthi/nn_interpolation_new/ssh_gridded_1961_001_12_new.nc'"
      ]
     },
     "execution_count": 2,
     "metadata": {},
     "output_type": "execute_result"
    },
    {
     "name": "stdout",
     "output_type": "stream",
     "text": [
      "(1034, 1200, 480)\n"
     ]
    }
   ],
   "source": [
    "input_dir = \"/work/ollie/bpanthi/nn_interpolation_new/\"\n",
    "input_file_paths = sorted(\n",
    "    [\n",
    "        os.path.join(input_dir, fname)\n",
    "        for fname in os.listdir(input_dir)\n",
    "    ])\n",
    "input_file_paths.pop(29)\n",
    "input_file_paths.pop(11)\n",
    "\n",
    "data_x = xr.open_mfdataset(input_file_paths,combine = 'nested', concat_dim=\"TIME\")\n",
    "data_x = data_x.ssh.to_numpy()\n",
    "X = np.float32(data_x)\n",
    "                            \n",
    "X[X>1000] = 0\n",
    "print(X.shape)"
   ]
  },
  {
   "cell_type": "code",
   "execution_count": 3,
   "metadata": {},
   "outputs": [
    {
     "data": {
      "text/plain": [
       "'/home/ollie/ssunar/segmentation_masks_3_years/segmentation_mask_nn_1963_001_06_new.nc'"
      ]
     },
     "execution_count": 3,
     "metadata": {},
     "output_type": "execute_result"
    },
    {
     "data": {
      "text/plain": [
       "'/home/ollie/ssunar/segmentation_masks_3_years/segmentation_mask_nn_1961_001_12_new.nc'"
      ]
     },
     "execution_count": 3,
     "metadata": {},
     "output_type": "execute_result"
    },
    {
     "name": "stdout",
     "output_type": "stream",
     "text": [
      "(1034, 1200, 480)\n"
     ]
    }
   ],
   "source": [
    "input_dir = \"/home/ollie/ssunar/segmentation_masks_3_years\"\n",
    "input_file_paths = sorted(\n",
    "    [\n",
    "        os.path.join(input_dir, fname)\n",
    "        for fname in os.listdir(input_dir)\n",
    "    ])\n",
    "input_file_paths.pop(29)\n",
    "input_file_paths.pop(11)\n",
    "\n",
    "data_y = xr.open_mfdataset(input_file_paths,combine = 'nested', concat_dim=\"TIME\")\n",
    "data_y = data_y.seg_mask.to_numpy()\n",
    "Y = np.float32(data_y)\n",
    "print(Y.shape)"
   ]
  },
  {
   "cell_type": "code",
   "execution_count": 4,
   "metadata": {},
   "outputs": [
    {
     "name": "stdout",
     "output_type": "stream",
     "text": [
      "Shape of data X: (8272, 256, 256)\n",
      "Shape of data Y: (8272, 256, 256)\n"
     ]
    }
   ],
   "source": [
    "temp_x_1 = X[:,0:256, 0:256]\n",
    "temp_x_2 = X[:,0:256, 224:480]\n",
    "temp_y_1 = Y[:,0:256, 0:256]\n",
    "temp_y_2 = Y[:,0:256, 224:480]\n",
    "data_x = np.concatenate((temp_x_1,temp_x_2), axis=0)\n",
    "data_y = np.concatenate((temp_y_1,temp_y_2), axis=0)\n",
    "\n",
    "for i in range(1,4):\n",
    "    temp_x_1 = X[:,256*i:256*(i+1), 0:256]\n",
    "    temp_x_2 = X[:,256*i:256*(i+1), 224:480]\n",
    "    temp_y_1 = Y[:,256*i:256*(i+1), 0:256]\n",
    "    temp_y_2 = Y[:,256*i:256*(i+1), 224:480]\n",
    "    data_x = np.concatenate((data_x, np.concatenate((temp_x_1,temp_x_2), axis=0)), axis=0)\n",
    "    data_y = np.concatenate((data_y, np.concatenate((temp_y_1,temp_y_2), axis=0)), axis=0)\n",
    "    \n",
    "print(\"Shape of data X:\", data_x.shape)  \n",
    "print(\"Shape of data Y:\",data_y.shape)"
   ]
  },
  {
   "cell_type": "code",
   "execution_count": 5,
   "metadata": {},
   "outputs": [
    {
     "name": "stdout",
     "output_type": "stream",
     "text": [
      "8272\n"
     ]
    }
   ],
   "source": [
    "img_size = (256, 256)\n",
    "num_classes = 3\n",
    "batch_size = 16\n",
    "epochs = 60\n",
    "total_samples = len(data_x)\n",
    "print(total_samples)"
   ]
  },
  {
   "cell_type": "code",
   "execution_count": 6,
   "metadata": {},
   "outputs": [
    {
     "name": "stderr",
     "output_type": "stream",
     "text": [
      "2022-04-17 21:10:41.313500: W tensorflow/stream_executor/platform/default/dso_loader.cc:64] Could not load dynamic library 'libcuda.so.1'; dlerror: libcuda.so.1: cannot open shared object file: No such file or directory; LD_LIBRARY_PATH: /global/AWIsoft/proj/4.9.3/lib:/global/AWIsoft/intel//2018/intelpython2/lib\n",
      "2022-04-17 21:10:41.313526: W tensorflow/stream_executor/cuda/cuda_driver.cc:269] failed call to cuInit: UNKNOWN ERROR (303)\n",
      "2022-04-17 21:10:41.313544: I tensorflow/stream_executor/cuda/cuda_diagnostics.cc:156] kernel driver does not appear to be running on this host (prod-0121): /proc/driver/nvidia/version does not exist\n",
      "2022-04-17 21:10:41.313768: I tensorflow/core/platform/cpu_feature_guard.cc:151] This TensorFlow binary is optimized with oneAPI Deep Neural Network Library (oneDNN) to use the following CPU instructions in performance-critical operations:  AVX2 FMA\n",
      "To enable them in other operations, rebuild TensorFlow with the appropriate compiler flags.\n"
     ]
    },
    {
     "name": "stdout",
     "output_type": "stream",
     "text": [
      "Model: \"model\"\n",
      "__________________________________________________________________________________________________\n",
      " Layer (type)                   Output Shape         Param #     Connected to                     \n",
      "==================================================================================================\n",
      " input_1 (InputLayer)           [(None, 256, 256, 1  0           []                               \n",
      "                                )]                                                                \n",
      "                                                                                                  \n",
      " separable_conv2d (SeparableCon  (None, 256, 256, 16  25         ['input_1[0][0]']                \n",
      " v2D)                           )                                                                 \n",
      "                                                                                                  \n",
      " batch_normalization (BatchNorm  (None, 256, 256, 16  64         ['separable_conv2d[0][0]']       \n",
      " alization)                     )                                                                 \n",
      "                                                                                                  \n",
      " activation (Activation)        (None, 256, 256, 16  0           ['batch_normalization[0][0]']    \n",
      "                                )                                                                 \n",
      "                                                                                                  \n",
      " separable_conv2d_1 (SeparableC  (None, 256, 256, 16  400        ['activation[0][0]']             \n",
      " onv2D)                         )                                                                 \n",
      "                                                                                                  \n",
      " batch_normalization_1 (BatchNo  (None, 256, 256, 16  64         ['separable_conv2d_1[0][0]']     \n",
      " rmalization)                   )                                                                 \n",
      "                                                                                                  \n",
      " activation_1 (Activation)      (None, 256, 256, 16  0           ['batch_normalization_1[0][0]']  \n",
      "                                )                                                                 \n",
      "                                                                                                  \n",
      " dropout (Dropout)              (None, 256, 256, 16  0           ['activation_1[0][0]']           \n",
      "                                )                                                                 \n",
      "                                                                                                  \n",
      " max_pooling2d (MaxPooling2D)   (None, 128, 128, 16  0           ['dropout[0][0]']                \n",
      "                                )                                                                 \n",
      "                                                                                                  \n",
      " separable_conv2d_2 (SeparableC  (None, 128, 128, 16  400        ['max_pooling2d[0][0]']          \n",
      " onv2D)                         )                                                                 \n",
      "                                                                                                  \n",
      " batch_normalization_2 (BatchNo  (None, 128, 128, 16  64         ['separable_conv2d_2[0][0]']     \n",
      " rmalization)                   )                                                                 \n",
      "                                                                                                  \n",
      " activation_2 (Activation)      (None, 128, 128, 16  0           ['batch_normalization_2[0][0]']  \n",
      "                                )                                                                 \n",
      "                                                                                                  \n",
      " separable_conv2d_3 (SeparableC  (None, 128, 128, 16  400        ['activation_2[0][0]']           \n",
      " onv2D)                         )                                                                 \n",
      "                                                                                                  \n",
      " batch_normalization_3 (BatchNo  (None, 128, 128, 16  64         ['separable_conv2d_3[0][0]']     \n",
      " rmalization)                   )                                                                 \n",
      "                                                                                                  \n",
      " activation_3 (Activation)      (None, 128, 128, 16  0           ['batch_normalization_3[0][0]']  \n",
      "                                )                                                                 \n",
      "                                                                                                  \n",
      " dropout_1 (Dropout)            (None, 128, 128, 16  0           ['activation_3[0][0]']           \n",
      "                                )                                                                 \n",
      "                                                                                                  \n",
      " max_pooling2d_1 (MaxPooling2D)  (None, 64, 64, 16)  0           ['dropout_1[0][0]']              \n",
      "                                                                                                  \n",
      " separable_conv2d_4 (SeparableC  (None, 64, 64, 32)  656         ['max_pooling2d_1[0][0]']        \n",
      " onv2D)                                                                                           \n",
      "                                                                                                  \n",
      " batch_normalization_4 (BatchNo  (None, 64, 64, 32)  128         ['separable_conv2d_4[0][0]']     \n",
      " rmalization)                                                                                     \n",
      "                                                                                                  \n",
      " activation_4 (Activation)      (None, 64, 64, 32)   0           ['batch_normalization_4[0][0]']  \n",
      "                                                                                                  \n",
      " separable_conv2d_5 (SeparableC  (None, 64, 64, 32)  1312        ['activation_4[0][0]']           \n",
      " onv2D)                                                                                           \n",
      "                                                                                                  \n",
      " batch_normalization_5 (BatchNo  (None, 64, 64, 32)  128         ['separable_conv2d_5[0][0]']     \n",
      " rmalization)                                                                                     \n",
      "                                                                                                  \n",
      " activation_5 (Activation)      (None, 64, 64, 32)   0           ['batch_normalization_5[0][0]']  \n",
      "                                                                                                  \n",
      " dropout_2 (Dropout)            (None, 64, 64, 32)   0           ['activation_5[0][0]']           \n",
      "                                                                                                  \n",
      " max_pooling2d_2 (MaxPooling2D)  (None, 32, 32, 32)  0           ['dropout_2[0][0]']              \n",
      "                                                                                                  \n",
      " separable_conv2d_6 (SeparableC  (None, 32, 32, 32)  1312        ['max_pooling2d_2[0][0]']        \n",
      " onv2D)                                                                                           \n",
      "                                                                                                  \n",
      " batch_normalization_6 (BatchNo  (None, 32, 32, 32)  128         ['separable_conv2d_6[0][0]']     \n",
      " rmalization)                                                                                     \n",
      "                                                                                                  \n",
      " activation_6 (Activation)      (None, 32, 32, 32)   0           ['batch_normalization_6[0][0]']  \n",
      "                                                                                                  \n",
      " separable_conv2d_7 (SeparableC  (None, 32, 32, 32)  1312        ['activation_6[0][0]']           \n",
      " onv2D)                                                                                           \n"
     ]
    },
    {
     "name": "stdout",
     "output_type": "stream",
     "text": [
      "                                                                                                  \n",
      " batch_normalization_7 (BatchNo  (None, 32, 32, 32)  128         ['separable_conv2d_7[0][0]']     \n",
      " rmalization)                                                                                     \n",
      "                                                                                                  \n",
      " activation_7 (Activation)      (None, 32, 32, 32)   0           ['batch_normalization_7[0][0]']  \n",
      "                                                                                                  \n",
      " dropout_3 (Dropout)            (None, 32, 32, 32)   0           ['activation_7[0][0]']           \n",
      "                                                                                                  \n",
      " up_sampling2d (UpSampling2D)   (None, 64, 64, 32)   0           ['dropout_3[0][0]']              \n",
      "                                                                                                  \n",
      " concatenate (Concatenate)      (None, 64, 64, 64)   0           ['up_sampling2d[0][0]',          \n",
      "                                                                  'dropout_2[0][0]']              \n",
      "                                                                                                  \n",
      " separable_conv2d_8 (SeparableC  (None, 64, 64, 32)  2624        ['concatenate[0][0]']            \n",
      " onv2D)                                                                                           \n",
      "                                                                                                  \n",
      " batch_normalization_8 (BatchNo  (None, 64, 64, 32)  128         ['separable_conv2d_8[0][0]']     \n",
      " rmalization)                                                                                     \n",
      "                                                                                                  \n",
      " activation_8 (Activation)      (None, 64, 64, 32)   0           ['batch_normalization_8[0][0]']  \n",
      "                                                                                                  \n",
      " separable_conv2d_9 (SeparableC  (None, 64, 64, 32)  1312        ['activation_8[0][0]']           \n",
      " onv2D)                                                                                           \n",
      "                                                                                                  \n",
      " batch_normalization_9 (BatchNo  (None, 64, 64, 32)  128         ['separable_conv2d_9[0][0]']     \n",
      " rmalization)                                                                                     \n",
      "                                                                                                  \n",
      " activation_9 (Activation)      (None, 64, 64, 32)   0           ['batch_normalization_9[0][0]']  \n",
      "                                                                                                  \n",
      " dropout_4 (Dropout)            (None, 64, 64, 32)   0           ['activation_9[0][0]']           \n",
      "                                                                                                  \n",
      " up_sampling2d_1 (UpSampling2D)  (None, 128, 128, 32  0          ['dropout_4[0][0]']              \n",
      "                                )                                                                 \n",
      "                                                                                                  \n",
      " concatenate_1 (Concatenate)    (None, 128, 128, 48  0           ['up_sampling2d_1[0][0]',        \n",
      "                                )                                 'dropout_1[0][0]']              \n",
      "                                                                                                  \n",
      " separable_conv2d_10 (Separable  (None, 128, 128, 16  1200       ['concatenate_1[0][0]']          \n",
      " Conv2D)                        )                                                                 \n",
      "                                                                                                  \n",
      " batch_normalization_10 (BatchN  (None, 128, 128, 16  64         ['separable_conv2d_10[0][0]']    \n",
      " ormalization)                  )                                                                 \n",
      "                                                                                                  \n",
      " activation_10 (Activation)     (None, 128, 128, 16  0           ['batch_normalization_10[0][0]'] \n",
      "                                )                                                                 \n",
      "                                                                                                  \n",
      " separable_conv2d_11 (Separable  (None, 128, 128, 16  400        ['activation_10[0][0]']          \n",
      " Conv2D)                        )                                                                 \n",
      "                                                                                                  \n",
      " batch_normalization_11 (BatchN  (None, 128, 128, 16  64         ['separable_conv2d_11[0][0]']    \n",
      " ormalization)                  )                                                                 \n",
      "                                                                                                  \n",
      " activation_11 (Activation)     (None, 128, 128, 16  0           ['batch_normalization_11[0][0]'] \n",
      "                                )                                                                 \n",
      "                                                                                                  \n",
      " dropout_5 (Dropout)            (None, 128, 128, 16  0           ['activation_11[0][0]']          \n",
      "                                )                                                                 \n",
      "                                                                                                  \n",
      " up_sampling2d_2 (UpSampling2D)  (None, 256, 256, 16  0          ['dropout_5[0][0]']              \n",
      "                                )                                                                 \n",
      "                                                                                                  \n",
      " concatenate_2 (Concatenate)    (None, 256, 256, 32  0           ['up_sampling2d_2[0][0]',        \n",
      "                                )                                 'dropout[0][0]']                \n",
      "                                                                                                  \n",
      " separable_conv2d_12 (Separable  (None, 256, 256, 16  800        ['concatenate_2[0][0]']          \n",
      " Conv2D)                        )                                                                 \n",
      "                                                                                                  \n",
      " batch_normalization_12 (BatchN  (None, 256, 256, 16  64         ['separable_conv2d_12[0][0]']    \n",
      " ormalization)                  )                                                                 \n",
      "                                                                                                  \n",
      " activation_12 (Activation)     (None, 256, 256, 16  0           ['batch_normalization_12[0][0]'] \n",
      "                                )                                                                 \n",
      "                                                                                                  \n",
      " separable_conv2d_13 (Separable  (None, 256, 256, 16  400        ['activation_12[0][0]']          \n",
      " Conv2D)                        )                                                                 \n",
      "                                                                                                  \n",
      " batch_normalization_13 (BatchN  (None, 256, 256, 16  64         ['separable_conv2d_13[0][0]']    \n",
      " ormalization)                  )                                                                 \n",
      "                                                                                                  \n",
      " activation_13 (Activation)     (None, 256, 256, 16  0           ['batch_normalization_13[0][0]'] \n",
      "                                )                                                                 \n",
      "                                                                                                  \n",
      " dropout_6 (Dropout)            (None, 256, 256, 16  0           ['activation_13[0][0]']          \n"
     ]
    },
    {
     "name": "stdout",
     "output_type": "stream",
     "text": [
      "                                )                                                                 \n",
      "                                                                                                  \n",
      " separable_conv2d_14 (Separable  (None, 256, 256, 3)  64         ['dropout_6[0][0]']              \n",
      " Conv2D)                                                                                          \n",
      "                                                                                                  \n",
      " reshape (Reshape)              (None, 65536, 3)     0           ['separable_conv2d_14[0][0]']    \n",
      "                                                                                                  \n",
      " activation_14 (Activation)     (None, 65536, 3)     0           ['reshape[0][0]']                \n",
      "                                                                                                  \n",
      "==================================================================================================\n",
      "Total params: 13,897\n",
      "Trainable params: 13,257\n",
      "Non-trainable params: 640\n",
      "__________________________________________________________________________________________________\n"
     ]
    }
   ],
   "source": [
    "model = get_model(img_size, num_classes)\n",
    "model.summary()"
   ]
  },
  {
   "cell_type": "code",
   "execution_count": 7,
   "metadata": {},
   "outputs": [
    {
     "data": {
      "text/plain": [
       "{0.0: 493825859, 1.0: 24870368, 2.0: 23417565}"
      ]
     },
     "execution_count": 7,
     "metadata": {},
     "output_type": "execute_result"
    }
   ],
   "source": [
    "#Loss function \n",
    "#defined from the paper:\n",
    "#Santana et al._2020_Neural network training for the detection and classification of oceanic mesoscale eddies\n",
    "\n",
    "unique, counts = np.unique(data_y, return_counts=True)\n",
    "dict(zip(unique, counts))\n",
    "\n",
    "freq = [np.sum(counts)/j for j in counts]\n",
    "weightsSeg = [f/np.sum(freq) for f in freq]\n",
    "\n",
    "def dice_coef_anti(y_true, y_pred):\n",
    "    smooth = 1.  # to avoid zero division\n",
    "    y_true_anti = y_true[:,:,1]\n",
    "    y_pred_anti = y_pred[:,:,1]\n",
    "    intersection_anti = K.sum(y_true_anti * y_pred_anti)\n",
    "    return (2 * intersection_anti + smooth) / (K.sum(y_true_anti)+ K.sum(y_pred_anti) + smooth)\n",
    "\n",
    "def dice_coef_cyc(y_true, y_pred):\n",
    "    smooth = 1.  # to avoid zero division\n",
    "    y_true_cyc = y_true[:,:,2]\n",
    "    y_pred_cyc = y_pred[:,:,2]\n",
    "    intersection_cyc = K.sum(y_true_cyc * y_pred_cyc)\n",
    "    return (2 * intersection_cyc + smooth) / (K.sum(y_true_cyc) + K.sum(y_pred_cyc) + smooth)\n",
    "\n",
    "def dice_coef_nn(y_true, y_pred):\n",
    "    smooth = 1.  # to avoid zero division\n",
    "    y_true_nn = y_true[:,:,0]\n",
    "    y_pred_nn = y_pred[:,:,0]\n",
    "    intersection_nn = K.sum(y_true_nn * y_pred_nn)\n",
    "    return (2 * intersection_nn + smooth) / (K.sum(y_true_nn) + K.sum(y_pred_nn) + smooth)\n",
    "    \n",
    "def mean_dice_coef(y_true, y_pred):\n",
    "    return (dice_coef_anti(y_true, y_pred) + dice_coef_cyc(y_true, y_pred) + dice_coef_nn(y_true, y_pred))/3.\n",
    "\n",
    "def weighted_mean_dice_coef(y_true, y_pred):\n",
    "    return (weightsSeg[2]*dice_coef_anti(y_true, y_pred) + weightsSeg[1]*dice_coef_cyc(y_true, y_pred) + weightsSeg[0]*dice_coef_nn(y_true, y_pred))\n",
    "  \n",
    "def dice_coef_loss(y_true, y_pred):\n",
    "    return 1 - weighted_mean_dice_coef(y_true, y_pred)"
   ]
  },
  {
   "cell_type": "code",
   "execution_count": 8,
   "metadata": {},
   "outputs": [
    {
     "name": "stdout",
     "output_type": "stream",
     "text": [
      "train_input: (6617, 256, 256)\n",
      "val_input: (1655, 256, 256)\n",
      "Size of each batch:  (16, 256, 256, 1)\n"
     ]
    }
   ],
   "source": [
    "# Split our img paths into a training and a validation set\n",
    "split = 0.2\n",
    "train_samples = int((1-split)*total_samples)\n",
    "#same seed must be used\n",
    "random.Random(0).shuffle(data_x)\n",
    "random.Random(0).shuffle(data_y)\n",
    "train_input = data_x[0:train_samples]\n",
    "train_target = data_y[0:train_samples]\n",
    "val_input = data_x[train_samples:total_samples]\n",
    "val_target = data_y[train_samples:total_samples]\n",
    "\n",
    "print(\"train_input:\", train_input.shape)\n",
    "print(\"val_input:\", val_input.shape)\n",
    "\n",
    "# Instantiate data Sequences for each split\n",
    "train_gen = plain_net_eddy(batch_size, img_size, train_input, train_target)\n",
    "val_gen = plain_net_eddy(batch_size, img_size, val_input, val_target)\n",
    "print(\"Size of each batch: \",train_gen[1][0].shape)"
   ]
  },
  {
   "cell_type": "code",
   "execution_count": 9,
   "metadata": {},
   "outputs": [
    {
     "name": "stdout",
     "output_type": "stream",
     "text": [
      "Epoch 1/60\n"
     ]
    },
    {
     "name": "stderr",
     "output_type": "stream",
     "text": [
      "/home/ollie/bpanthi/.conda/envs/eddy-tracking/lib/python3.8/site-packages/keras/optimizer_v2/adam.py:105: UserWarning: The `lr` argument is deprecated, use `learning_rate` instead.\n",
      "  super(Adam, self).__init__(name, **kwargs)\n"
     ]
    },
    {
     "name": "stdout",
     "output_type": "stream",
     "text": [
      "413/413 [==============================] - 294s 707ms/step - loss: 0.7472 - categorical_accuracy: 0.6914 - mean_dice_coef: 0.4106 - weighted_mean_dice_coef: 0.2528 - val_loss: 0.9768 - val_categorical_accuracy: 0.9143 - val_mean_dice_coef: 0.3186 - val_weighted_mean_dice_coef: 0.0232 - lr: 0.0010\n",
      "Epoch 2/60\n",
      "413/413 [==============================] - 291s 706ms/step - loss: 0.5497 - categorical_accuracy: 0.9041 - mean_dice_coef: 0.6074 - weighted_mean_dice_coef: 0.4503 - val_loss: 0.7547 - val_categorical_accuracy: 0.9175 - val_mean_dice_coef: 0.4704 - val_weighted_mean_dice_coef: 0.2453 - lr: 0.0010\n",
      "Epoch 3/60\n",
      "413/413 [==============================] - 291s 705ms/step - loss: 0.5151 - categorical_accuracy: 0.9128 - mean_dice_coef: 0.6328 - weighted_mean_dice_coef: 0.4849 - val_loss: 0.6098 - val_categorical_accuracy: 0.9111 - val_mean_dice_coef: 0.5680 - val_weighted_mean_dice_coef: 0.3902 - lr: 0.0010\n",
      "Epoch 4/60\n",
      "413/413 [==============================] - 291s 704ms/step - loss: 0.4984 - categorical_accuracy: 0.9167 - mean_dice_coef: 0.6449 - weighted_mean_dice_coef: 0.5016 - val_loss: 0.6332 - val_categorical_accuracy: 0.9198 - val_mean_dice_coef: 0.5537 - val_weighted_mean_dice_coef: 0.3668 - lr: 0.0010\n",
      "Epoch 5/60\n",
      "413/413 [==============================] - 291s 704ms/step - loss: 0.4864 - categorical_accuracy: 0.9188 - mean_dice_coef: 0.6535 - weighted_mean_dice_coef: 0.5136 - val_loss: 0.5766 - val_categorical_accuracy: 0.9180 - val_mean_dice_coef: 0.5922 - val_weighted_mean_dice_coef: 0.4234 - lr: 0.0010\n",
      "Epoch 6/60\n",
      "413/413 [==============================] - 291s 706ms/step - loss: 0.4775 - categorical_accuracy: 0.9206 - mean_dice_coef: 0.6599 - weighted_mean_dice_coef: 0.5225 - val_loss: 0.5527 - val_categorical_accuracy: 0.9165 - val_mean_dice_coef: 0.6084 - val_weighted_mean_dice_coef: 0.4473 - lr: 0.0010\n",
      "Epoch 7/60\n",
      "413/413 [==============================] - 291s 705ms/step - loss: 0.4705 - categorical_accuracy: 0.9221 - mean_dice_coef: 0.6649 - weighted_mean_dice_coef: 0.5295 - val_loss: 0.5721 - val_categorical_accuracy: 0.9203 - val_mean_dice_coef: 0.5952 - val_weighted_mean_dice_coef: 0.4279 - lr: 0.0010\n",
      "Epoch 8/60\n",
      "413/413 [==============================] - 292s 706ms/step - loss: 0.4648 - categorical_accuracy: 0.9230 - mean_dice_coef: 0.6690 - weighted_mean_dice_coef: 0.5352 - val_loss: 0.5409 - val_categorical_accuracy: 0.9185 - val_mean_dice_coef: 0.6162 - val_weighted_mean_dice_coef: 0.4591 - lr: 0.0010\n",
      "Epoch 9/60\n",
      "413/413 [==============================] - 292s 706ms/step - loss: 0.4613 - categorical_accuracy: 0.9235 - mean_dice_coef: 0.6715 - weighted_mean_dice_coef: 0.5387 - val_loss: 0.5372 - val_categorical_accuracy: 0.9182 - val_mean_dice_coef: 0.6191 - val_weighted_mean_dice_coef: 0.4628 - lr: 0.0010\n",
      "Epoch 10/60\n",
      "413/413 [==============================] - 291s 705ms/step - loss: 0.4569 - categorical_accuracy: 0.9244 - mean_dice_coef: 0.6746 - weighted_mean_dice_coef: 0.5431 - val_loss: 0.5441 - val_categorical_accuracy: 0.9206 - val_mean_dice_coef: 0.6145 - val_weighted_mean_dice_coef: 0.4559 - lr: 0.0010\n",
      "Epoch 11/60\n",
      "413/413 [==============================] - 290s 702ms/step - loss: 0.4538 - categorical_accuracy: 0.9250 - mean_dice_coef: 0.6769 - weighted_mean_dice_coef: 0.5462 - val_loss: 0.5422 - val_categorical_accuracy: 0.9131 - val_mean_dice_coef: 0.6145 - val_weighted_mean_dice_coef: 0.4578 - lr: 0.0010\n",
      "Epoch 12/60\n",
      "413/413 [==============================] - 289s 700ms/step - loss: 0.4504 - categorical_accuracy: 0.9256 - mean_dice_coef: 0.6793 - weighted_mean_dice_coef: 0.5496 - val_loss: 0.5405 - val_categorical_accuracy: 0.9215 - val_mean_dice_coef: 0.6175 - val_weighted_mean_dice_coef: 0.4595 - lr: 0.0010\n",
      "Epoch 13/60\n",
      "413/413 [==============================] - 290s 703ms/step - loss: 0.4467 - categorical_accuracy: 0.9262 - mean_dice_coef: 0.6819 - weighted_mean_dice_coef: 0.5533 - val_loss: 0.5480 - val_categorical_accuracy: 0.9194 - val_mean_dice_coef: 0.6115 - val_weighted_mean_dice_coef: 0.4520 - lr: 0.0010\n",
      "Epoch 14/60\n",
      "413/413 [==============================] - 290s 703ms/step - loss: 0.4440 - categorical_accuracy: 0.9267 - mean_dice_coef: 0.6838 - weighted_mean_dice_coef: 0.5560 - val_loss: 0.5353 - val_categorical_accuracy: 0.9221 - val_mean_dice_coef: 0.6207 - val_weighted_mean_dice_coef: 0.4647 - lr: 0.0010\n",
      "Epoch 15/60\n",
      "413/413 [==============================] - 291s 703ms/step - loss: 0.4428 - categorical_accuracy: 0.9271 - mean_dice_coef: 0.6847 - weighted_mean_dice_coef: 0.5572 - val_loss: 0.5394 - val_categorical_accuracy: 0.9232 - val_mean_dice_coef: 0.6180 - val_weighted_mean_dice_coef: 0.4606 - lr: 0.0010\n",
      "Epoch 16/60\n",
      "413/413 [==============================] - 293s 709ms/step - loss: 0.4400 - categorical_accuracy: 0.9274 - mean_dice_coef: 0.6867 - weighted_mean_dice_coef: 0.5600 - val_loss: 0.5227 - val_categorical_accuracy: 0.9175 - val_mean_dice_coef: 0.6288 - val_weighted_mean_dice_coef: 0.4773 - lr: 0.0010\n",
      "Epoch 17/60\n",
      "413/413 [==============================] - 306s 742ms/step - loss: 0.4388 - categorical_accuracy: 0.9278 - mean_dice_coef: 0.6876 - weighted_mean_dice_coef: 0.5612 - val_loss: 0.5544 - val_categorical_accuracy: 0.9221 - val_mean_dice_coef: 0.6075 - val_weighted_mean_dice_coef: 0.4456 - lr: 0.0010\n",
      "Epoch 18/60\n",
      "413/413 [==============================] - 306s 742ms/step - loss: 0.4371 - categorical_accuracy: 0.9281 - mean_dice_coef: 0.6888 - weighted_mean_dice_coef: 0.5629 - val_loss: 0.5264 - val_categorical_accuracy: 0.9237 - val_mean_dice_coef: 0.6269 - val_weighted_mean_dice_coef: 0.4736 - lr: 0.0010\n",
      "Epoch 19/60\n",
      "413/413 [==============================] - 297s 720ms/step - loss: 0.4357 - categorical_accuracy: 0.9283 - mean_dice_coef: 0.6898 - weighted_mean_dice_coef: 0.5643 - val_loss: 0.5386 - val_categorical_accuracy: 0.9248 - val_mean_dice_coef: 0.6191 - val_weighted_mean_dice_coef: 0.4614 - lr: 0.0010\n",
      "Epoch 20/60\n",
      "413/413 [==============================] - 294s 713ms/step - loss: 0.4340 - categorical_accuracy: 0.9286 - mean_dice_coef: 0.6910 - weighted_mean_dice_coef: 0.5660 - val_loss: 0.5438 - val_categorical_accuracy: 0.9237 - val_mean_dice_coef: 0.6147 - val_weighted_mean_dice_coef: 0.4562 - lr: 0.0010\n",
      "Epoch 21/60\n",
      "413/413 [==============================] - 320s 775ms/step - loss: 0.4320 - categorical_accuracy: 0.9292 - mean_dice_coef: 0.6924 - weighted_mean_dice_coef: 0.5680 - val_loss: 0.5172 - val_categorical_accuracy: 0.9207 - val_mean_dice_coef: 0.6334 - val_weighted_mean_dice_coef: 0.4828 - lr: 0.0010\n",
      "Epoch 22/60\n",
      "413/413 [==============================] - 324s 784ms/step - loss: 0.4310 - categorical_accuracy: 0.9294 - mean_dice_coef: 0.6932 - weighted_mean_dice_coef: 0.5690 - val_loss: 0.5403 - val_categorical_accuracy: 0.9220 - val_mean_dice_coef: 0.6173 - val_weighted_mean_dice_coef: 0.4597 - lr: 0.0010\n",
      "Epoch 23/60\n",
      "413/413 [==============================] - 329s 796ms/step - loss: 0.4302 - categorical_accuracy: 0.9293 - mean_dice_coef: 0.6937 - weighted_mean_dice_coef: 0.5698 - val_loss: 0.5957 - val_categorical_accuracy: 0.9249 - val_mean_dice_coef: 0.5797 - val_weighted_mean_dice_coef: 0.4043 - lr: 0.0010\n",
      "Epoch 24/60\n",
      "413/413 [==============================] - 342s 829ms/step - loss: 0.4280 - categorical_accuracy: 0.9298 - mean_dice_coef: 0.6953 - weighted_mean_dice_coef: 0.5720 - val_loss: 0.5260 - val_categorical_accuracy: 0.9232 - val_mean_dice_coef: 0.6273 - val_weighted_mean_dice_coef: 0.4740 - lr: 0.0010\n",
      "Epoch 25/60\n",
      "413/413 [==============================] - 344s 833ms/step - loss: 0.4269 - categorical_accuracy: 0.9299 - mean_dice_coef: 0.6961 - weighted_mean_dice_coef: 0.5731 - val_loss: 0.5209 - val_categorical_accuracy: 0.9245 - val_mean_dice_coef: 0.6309 - val_weighted_mean_dice_coef: 0.4791 - lr: 0.0010\n",
      "Epoch 26/60\n",
      "413/413 [==============================] - 346s 837ms/step - loss: 0.4253 - categorical_accuracy: 0.9302 - mean_dice_coef: 0.6972 - weighted_mean_dice_coef: 0.5747 - val_loss: 0.5293 - val_categorical_accuracy: 0.9217 - val_mean_dice_coef: 0.6249 - val_weighted_mean_dice_coef: 0.4707 - lr: 0.0010\n",
      "Epoch 27/60\n"
     ]
    },
    {
     "name": "stdout",
     "output_type": "stream",
     "text": [
      "413/413 [==============================] - 346s 838ms/step - loss: 0.4242 - categorical_accuracy: 0.9306 - mean_dice_coef: 0.6981 - weighted_mean_dice_coef: 0.5758 - val_loss: 0.5159 - val_categorical_accuracy: 0.9210 - val_mean_dice_coef: 0.6341 - val_weighted_mean_dice_coef: 0.4841 - lr: 0.0010\n",
      "Epoch 28/60\n",
      "413/413 [==============================] - 344s 833ms/step - loss: 0.4237 - categorical_accuracy: 0.9305 - mean_dice_coef: 0.6983 - weighted_mean_dice_coef: 0.5763 - val_loss: 0.5170 - val_categorical_accuracy: 0.9211 - val_mean_dice_coef: 0.6327 - val_weighted_mean_dice_coef: 0.4830 - lr: 0.0010\n",
      "Epoch 29/60\n",
      "413/413 [==============================] - 345s 835ms/step - loss: 0.4227 - categorical_accuracy: 0.9310 - mean_dice_coef: 0.6991 - weighted_mean_dice_coef: 0.5773 - val_loss: 0.5652 - val_categorical_accuracy: 0.9204 - val_mean_dice_coef: 0.6003 - val_weighted_mean_dice_coef: 0.4348 - lr: 0.0010\n",
      "Epoch 30/60\n",
      "413/413 [==============================] - 343s 831ms/step - loss: 0.4228 - categorical_accuracy: 0.9308 - mean_dice_coef: 0.6990 - weighted_mean_dice_coef: 0.5772 - val_loss: 0.5120 - val_categorical_accuracy: 0.9224 - val_mean_dice_coef: 0.6366 - val_weighted_mean_dice_coef: 0.4880 - lr: 0.0010\n",
      "Epoch 31/60\n",
      "413/413 [==============================] - 346s 837ms/step - loss: 0.4218 - categorical_accuracy: 0.9308 - mean_dice_coef: 0.6998 - weighted_mean_dice_coef: 0.5782 - val_loss: 0.5207 - val_categorical_accuracy: 0.9230 - val_mean_dice_coef: 0.6309 - val_weighted_mean_dice_coef: 0.4793 - lr: 0.0010\n",
      "Epoch 32/60\n",
      "413/413 [==============================] - 348s 842ms/step - loss: 0.4205 - categorical_accuracy: 0.9312 - mean_dice_coef: 0.7007 - weighted_mean_dice_coef: 0.5795 - val_loss: 0.5070 - val_categorical_accuracy: 0.9192 - val_mean_dice_coef: 0.6397 - val_weighted_mean_dice_coef: 0.4930 - lr: 0.0010\n",
      "Epoch 33/60\n",
      "413/413 [==============================] - 349s 845ms/step - loss: 0.4200 - categorical_accuracy: 0.9312 - mean_dice_coef: 0.7010 - weighted_mean_dice_coef: 0.5800 - val_loss: 0.5047 - val_categorical_accuracy: 0.9205 - val_mean_dice_coef: 0.6416 - val_weighted_mean_dice_coef: 0.4953 - lr: 0.0010\n",
      "Epoch 34/60\n",
      "413/413 [==============================] - 347s 841ms/step - loss: 0.4189 - categorical_accuracy: 0.9316 - mean_dice_coef: 0.7018 - weighted_mean_dice_coef: 0.5811 - val_loss: 0.5634 - val_categorical_accuracy: 0.9252 - val_mean_dice_coef: 0.6019 - val_weighted_mean_dice_coef: 0.4366 - lr: 0.0010\n",
      "Epoch 35/60\n",
      "413/413 [==============================] - 344s 834ms/step - loss: 0.4185 - categorical_accuracy: 0.9317 - mean_dice_coef: 0.7021 - weighted_mean_dice_coef: 0.5815 - val_loss: 0.4957 - val_categorical_accuracy: 0.9172 - val_mean_dice_coef: 0.6467 - val_weighted_mean_dice_coef: 0.5043 - lr: 0.0010\n",
      "Epoch 36/60\n",
      "413/413 [==============================] - 348s 842ms/step - loss: 0.4176 - categorical_accuracy: 0.9318 - mean_dice_coef: 0.7027 - weighted_mean_dice_coef: 0.5824 - val_loss: 0.4909 - val_categorical_accuracy: 0.9239 - val_mean_dice_coef: 0.6512 - val_weighted_mean_dice_coef: 0.5091 - lr: 0.0010\n",
      "Epoch 37/60\n",
      "413/413 [==============================] - 347s 839ms/step - loss: 0.4175 - categorical_accuracy: 0.9317 - mean_dice_coef: 0.7028 - weighted_mean_dice_coef: 0.5825 - val_loss: 0.5320 - val_categorical_accuracy: 0.9224 - val_mean_dice_coef: 0.6229 - val_weighted_mean_dice_coef: 0.4680 - lr: 0.0010\n",
      "Epoch 38/60\n",
      "413/413 [==============================] - 325s 786ms/step - loss: 0.4165 - categorical_accuracy: 0.9319 - mean_dice_coef: 0.7036 - weighted_mean_dice_coef: 0.5835 - val_loss: 0.5092 - val_categorical_accuracy: 0.9257 - val_mean_dice_coef: 0.6389 - val_weighted_mean_dice_coef: 0.4908 - lr: 0.0010\n",
      "Epoch 39/60\n",
      "413/413 [==============================] - 330s 799ms/step - loss: 0.4167 - categorical_accuracy: 0.9320 - mean_dice_coef: 0.7034 - weighted_mean_dice_coef: 0.5833 - val_loss: 0.5463 - val_categorical_accuracy: 0.9260 - val_mean_dice_coef: 0.6140 - val_weighted_mean_dice_coef: 0.4537 - lr: 0.0010\n",
      "Epoch 40/60\n",
      "413/413 [==============================] - 344s 833ms/step - loss: 0.4148 - categorical_accuracy: 0.9325 - mean_dice_coef: 0.7048 - weighted_mean_dice_coef: 0.5852 - val_loss: 0.5279 - val_categorical_accuracy: 0.9256 - val_mean_dice_coef: 0.6263 - val_weighted_mean_dice_coef: 0.4721 - lr: 0.0010\n",
      "Epoch 41/60\n",
      "413/413 [==============================] - 327s 791ms/step - loss: 0.4154 - categorical_accuracy: 0.9323 - mean_dice_coef: 0.7044 - weighted_mean_dice_coef: 0.5846 - val_loss: 0.4947 - val_categorical_accuracy: 0.9191 - val_mean_dice_coef: 0.6478 - val_weighted_mean_dice_coef: 0.5053 - lr: 0.0010\n",
      "Epoch 42/60\n",
      "413/413 [==============================] - 318s 769ms/step - loss: 0.4143 - categorical_accuracy: 0.9325 - mean_dice_coef: 0.7052 - weighted_mean_dice_coef: 0.5857 - val_loss: 0.5203 - val_categorical_accuracy: 0.9269 - val_mean_dice_coef: 0.6317 - val_weighted_mean_dice_coef: 0.4797 - lr: 0.0010\n",
      "Epoch 43/60\n",
      "413/413 [==============================] - 343s 831ms/step - loss: 0.4132 - categorical_accuracy: 0.9325 - mean_dice_coef: 0.7059 - weighted_mean_dice_coef: 0.5868 - val_loss: 0.5096 - val_categorical_accuracy: 0.9227 - val_mean_dice_coef: 0.6386 - val_weighted_mean_dice_coef: 0.4904 - lr: 0.0010\n",
      "Epoch 44/60\n",
      "413/413 [==============================] - 344s 834ms/step - loss: 0.4139 - categorical_accuracy: 0.9325 - mean_dice_coef: 0.7054 - weighted_mean_dice_coef: 0.5861 - val_loss: 0.5364 - val_categorical_accuracy: 0.9243 - val_mean_dice_coef: 0.6206 - val_weighted_mean_dice_coef: 0.4636 - lr: 0.0010\n",
      "Epoch 45/60\n",
      "413/413 [==============================] - 347s 841ms/step - loss: 0.4134 - categorical_accuracy: 0.9326 - mean_dice_coef: 0.7058 - weighted_mean_dice_coef: 0.5866 - val_loss: 0.4899 - val_categorical_accuracy: 0.9179 - val_mean_dice_coef: 0.6506 - val_weighted_mean_dice_coef: 0.5101 - lr: 0.0010\n",
      "Epoch 46/60\n",
      "413/413 [==============================] - 348s 843ms/step - loss: 0.4123 - categorical_accuracy: 0.9326 - mean_dice_coef: 0.7065 - weighted_mean_dice_coef: 0.5877 - val_loss: 0.5025 - val_categorical_accuracy: 0.9245 - val_mean_dice_coef: 0.6435 - val_weighted_mean_dice_coef: 0.4975 - lr: 0.0010\n",
      "Epoch 47/60\n",
      "413/413 [==============================] - 348s 842ms/step - loss: 0.4122 - categorical_accuracy: 0.9327 - mean_dice_coef: 0.7066 - weighted_mean_dice_coef: 0.5878 - val_loss: 0.5234 - val_categorical_accuracy: 0.9258 - val_mean_dice_coef: 0.6295 - val_weighted_mean_dice_coef: 0.4766 - lr: 0.0010\n",
      "Epoch 48/60\n",
      "413/413 [==============================] - 346s 838ms/step - loss: 0.4128 - categorical_accuracy: 0.9326 - mean_dice_coef: 0.7062 - weighted_mean_dice_coef: 0.5872 - val_loss: 0.4998 - val_categorical_accuracy: 0.9163 - val_mean_dice_coef: 0.6437 - val_weighted_mean_dice_coef: 0.5002 - lr: 0.0010\n",
      "Epoch 49/60\n",
      "413/413 [==============================] - 346s 838ms/step - loss: 0.4114 - categorical_accuracy: 0.9328 - mean_dice_coef: 0.7072 - weighted_mean_dice_coef: 0.5886 - val_loss: 0.5263 - val_categorical_accuracy: 0.9112 - val_mean_dice_coef: 0.6249 - val_weighted_mean_dice_coef: 0.4737 - lr: 0.0010\n",
      "Epoch 50/60\n",
      "413/413 [==============================] - 343s 831ms/step - loss: 0.4108 - categorical_accuracy: 0.9331 - mean_dice_coef: 0.7076 - weighted_mean_dice_coef: 0.5892 - val_loss: 0.5154 - val_categorical_accuracy: 0.9263 - val_mean_dice_coef: 0.6350 - val_weighted_mean_dice_coef: 0.4846 - lr: 0.0010\n",
      "Epoch 51/60\n",
      "413/413 [==============================] - 345s 835ms/step - loss: 0.4093 - categorical_accuracy: 0.9333 - mean_dice_coef: 0.7087 - weighted_mean_dice_coef: 0.5907 - val_loss: 0.5162 - val_categorical_accuracy: 0.9158 - val_mean_dice_coef: 0.6324 - val_weighted_mean_dice_coef: 0.4838 - lr: 0.0010\n",
      "Epoch 52/60\n",
      "413/413 [==============================] - 350s 847ms/step - loss: 0.4100 - categorical_accuracy: 0.9332 - mean_dice_coef: 0.7082 - weighted_mean_dice_coef: 0.5900 - val_loss: 0.4860 - val_categorical_accuracy: 0.9222 - val_mean_dice_coef: 0.6543 - val_weighted_mean_dice_coef: 0.5140 - lr: 0.0010\n",
      "Epoch 53/60\n"
     ]
    },
    {
     "name": "stdout",
     "output_type": "stream",
     "text": [
      "413/413 [==============================] - 346s 839ms/step - loss: 0.4095 - categorical_accuracy: 0.9333 - mean_dice_coef: 0.7086 - weighted_mean_dice_coef: 0.5905 - val_loss: 0.5423 - val_categorical_accuracy: 0.9252 - val_mean_dice_coef: 0.6162 - val_weighted_mean_dice_coef: 0.4577 - lr: 0.0010\n",
      "Epoch 54/60\n",
      "413/413 [==============================] - 348s 843ms/step - loss: 0.4092 - categorical_accuracy: 0.9332 - mean_dice_coef: 0.7088 - weighted_mean_dice_coef: 0.5908 - val_loss: 0.5538 - val_categorical_accuracy: 0.9265 - val_mean_dice_coef: 0.6092 - val_weighted_mean_dice_coef: 0.4462 - lr: 0.0010\n",
      "Epoch 55/60\n",
      "413/413 [==============================] - 350s 849ms/step - loss: 0.4088 - categorical_accuracy: 0.9336 - mean_dice_coef: 0.7091 - weighted_mean_dice_coef: 0.5912 - val_loss: 0.5449 - val_categorical_accuracy: 0.9261 - val_mean_dice_coef: 0.6148 - val_weighted_mean_dice_coef: 0.4551 - lr: 0.0010\n",
      "Epoch 56/60\n",
      "413/413 [==============================] - 348s 843ms/step - loss: 0.4089 - categorical_accuracy: 0.9334 - mean_dice_coef: 0.7090 - weighted_mean_dice_coef: 0.5911 - val_loss: 0.5131 - val_categorical_accuracy: 0.9256 - val_mean_dice_coef: 0.6365 - val_weighted_mean_dice_coef: 0.4869 - lr: 0.0010\n",
      "Epoch 57/60\n",
      "413/413 [==============================] - 349s 844ms/step - loss: 0.4086 - categorical_accuracy: 0.9333 - mean_dice_coef: 0.7092 - weighted_mean_dice_coef: 0.5914 - val_loss: 0.5464 - val_categorical_accuracy: 0.9236 - val_mean_dice_coef: 0.6139 - val_weighted_mean_dice_coef: 0.4536 - lr: 0.0010\n",
      "Epoch 58/60\n",
      "413/413 [==============================] - 348s 843ms/step - loss: 0.4081 - categorical_accuracy: 0.9334 - mean_dice_coef: 0.7096 - weighted_mean_dice_coef: 0.5919 - val_loss: 0.5393 - val_categorical_accuracy: 0.9253 - val_mean_dice_coef: 0.6183 - val_weighted_mean_dice_coef: 0.4607 - lr: 0.0010\n",
      "Epoch 59/60\n",
      "413/413 [==============================] - 349s 846ms/step - loss: 0.4071 - categorical_accuracy: 0.9335 - mean_dice_coef: 0.7103 - weighted_mean_dice_coef: 0.5929 - val_loss: 0.5094 - val_categorical_accuracy: 0.9250 - val_mean_dice_coef: 0.6391 - val_weighted_mean_dice_coef: 0.4906 - lr: 0.0010\n",
      "Epoch 60/60\n",
      "413/413 [==============================] - 353s 854ms/step - loss: 0.4070 - categorical_accuracy: 0.9338 - mean_dice_coef: 0.7104 - weighted_mean_dice_coef: 0.5930 - val_loss: 0.5057 - val_categorical_accuracy: 0.9241 - val_mean_dice_coef: 0.6413 - val_weighted_mean_dice_coef: 0.4943 - lr: 0.0010\n"
     ]
    }
   ],
   "source": [
    "file_path_save = \"/work/ollie/bpanthi/NN_weights\"\n",
    "model.compile(optimizer=Adam(lr=1e-3), loss=dice_coef_loss, metrics=['categorical_accuracy', mean_dice_coef, weighted_mean_dice_coef])\n",
    "\n",
    "callbacks = [keras.callbacks.ModelCheckpoint(file_path_save, save_best_only=True , monitor='val_loss',save_weights_only=True),\n",
    "            keras.callbacks.ReduceLROnPlateau(monitor='val_loss', factor=0.5, patience=10, verbose=1, mode='auto', min_delta=1e-30, min_lr=1e-30)]\n",
    "\n",
    "# Train the model, doing validation at the end of each epoch.\n",
    "history = model.fit(train_gen, epochs=epochs, validation_data=val_gen, callbacks=callbacks, shuffle=True,verbose=1)"
   ]
  },
  {
   "cell_type": "code",
   "execution_count": 10,
   "metadata": {},
   "outputs": [
    {
     "data": {
      "image/png": "[encoded data removed]",
      "text/plain": [
       "<Figure size 720x720 with 1 Axes>"
      ]
     },
     "metadata": {
      "needs_background": "light"
     },
     "output_type": "display_data"
    }
   ],
   "source": [
    "plt.figure(figsize=(10, 10))\n",
    "plt.semilogy(model.history.history['loss'])\n",
    "plt.semilogy(model.history.history['val_loss'])\n",
    "plt.title('model loss')\n",
    "plt.ylabel('loss')\n",
    "plt.xlabel('epoch')\n",
    "plt.legend(['train_loss', 'val_loss'], loc='upper right');"
   ]
  },
  {
   "cell_type": "code",
   "execution_count": 11,
   "metadata": {},
   "outputs": [
    {
     "name": "stdout",
     "output_type": "stream",
     "text": [
      "(1648, 65536, 3)\n",
      "Time Per image: 0.009297498835537729\n",
      "Time for 1 year eqv: 3.393587074971271\n"
     ]
    }
   ],
   "source": [
    "import time\n",
    "start = time.time()\n",
    "\n",
    "val_gen = plain_net_eddy(batch_size, img_size, val_input, val_target)\n",
    "val_preds = model.predict(val_gen)\n",
    "print(val_preds.shape)\n",
    "\n",
    "end = time.time()\n",
    "time_per_img = (end - start)/1655\n",
    "print(\"Time Per image:\",time_per_img)\n",
    "print(\"Time for 1 year eqv:\",time_per_img*365)"
   ]
  },
  {
   "cell_type": "code",
   "execution_count": 12,
   "metadata": {},
   "outputs": [
    {
     "name": "stdout",
     "output_type": "stream",
     "text": [
      "(1, 256, 256, 1)\n",
      "(1, 65536, 3)\n"
     ]
    }
   ],
   "source": [
    "# val_gen = plain_net_eddy(batch_size, img_size, val_input, val_target)\n",
    "# mask = np.expand_dims(val_preds, axis=-1)\n",
    "val_gen = data_x[180]\n",
    "val_gen = np.reshape(val_gen,(1,img_size[0],img_size[1],1))\n",
    "print(val_gen.shape)\n",
    "val_preds = model.predict(val_gen)\n",
    "print(val_preds.shape)"
   ]
  },
  {
   "cell_type": "code",
   "execution_count": 13,
   "metadata": {},
   "outputs": [
    {
     "data": {
      "text/plain": [
       "<Figure size 1440x720 with 0 Axes>"
      ]
     },
     "execution_count": 13,
     "metadata": {},
     "output_type": "execute_result"
    },
    {
     "data": {
      "text/plain": [
       "<AxesSubplot:>"
      ]
     },
     "execution_count": 13,
     "metadata": {},
     "output_type": "execute_result"
    },
    {
     "data": {
      "text/plain": [
       "<matplotlib.image.AxesImage at 0x2aad68bb3d90>"
      ]
     },
     "execution_count": 13,
     "metadata": {},
     "output_type": "execute_result"
    },
    {
     "data": {
      "text/plain": [
       "<matplotlib.colorbar.Colorbar at 0x2aad68984430>"
      ]
     },
     "execution_count": 13,
     "metadata": {},
     "output_type": "execute_result"
    },
    {
     "data": {
      "text/plain": [
       "(-0.5, 255.5, 255.5, -0.5)"
      ]
     },
     "execution_count": 13,
     "metadata": {},
     "output_type": "execute_result"
    },
    {
     "data": {
      "text/plain": [
       "Text(0.5, 1.0, 'Result Segmentation')"
      ]
     },
     "execution_count": 13,
     "metadata": {},
     "output_type": "execute_result"
    },
    {
     "data": {
      "text/plain": [
       "<AxesSubplot:>"
      ]
     },
     "execution_count": 13,
     "metadata": {},
     "output_type": "execute_result"
    },
    {
     "data": {
      "text/plain": [
       "<matplotlib.image.AxesImage at 0x2aad68bb3ca0>"
      ]
     },
     "execution_count": 13,
     "metadata": {},
     "output_type": "execute_result"
    },
    {
     "data": {
      "text/plain": [
       "<matplotlib.colorbar.Colorbar at 0x2aad68a12c70>"
      ]
     },
     "execution_count": 13,
     "metadata": {},
     "output_type": "execute_result"
    },
    {
     "data": {
      "text/plain": [
       "(-0.5, 255.5, 255.5, -0.5)"
      ]
     },
     "execution_count": 13,
     "metadata": {},
     "output_type": "execute_result"
    },
    {
     "data": {
      "text/plain": [
       "Text(0.5, 1.0, 'Groundtruth Segmentation')"
      ]
     },
     "execution_count": 13,
     "metadata": {},
     "output_type": "execute_result"
    },
    {
     "data": {
      "image/png": "[encoded data removed]",
      "text/plain": [
       "<Figure size 1440x720 with 4 Axes>"
      ]
     },
     "metadata": {
      "needs_background": "light"
     },
     "output_type": "display_data"
    }
   ],
   "source": [
    "#seeing the prediction of one image of the validation set\n",
    "%matplotlib inline\n",
    "mask = np.argmax(np.reshape(val_preds[0],(1,img_size[1],img_size[0],3)), axis=-1)\n",
    "mask = np.reshape(mask,(img_size[0],img_size[1]))\n",
    "\n",
    "plt.figure(figsize=(20, 10))\n",
    "\n",
    "plt.subplot(131)\n",
    "plt.imshow(mask.T, cmap='viridis')\n",
    "plt.colorbar(extend='both', fraction=0.042, pad=0.04)\n",
    "plt.axis('off')\n",
    "plt.title('Result Segmentation');\n",
    "plt.savefig('prediction.png')\n",
    "\n",
    "plt.subplot(132)\n",
    "plt.imshow(data_y[180].T, cmap='viridis')\n",
    "plt.colorbar(extend='both', fraction=0.042, pad=0.04)\n",
    "plt.axis('off')\n",
    "plt.title('Groundtruth Segmentation');\n",
    "plt.savefig('groundtruth.png')"
   ]
  }
 ],
 "metadata": {
  "kernelspec": {
   "display_name": "eddy-tracking",
   "language": "python",
   "name": "eddy-tracking"
  },
  "language_info": {
   "codemirror_mode": {
    "name": "ipython",
    "version": 3
   },
   "file_extension": ".py",
   "mimetype": "text/x-python",
   "name": "python",
   "nbconvert_exporter": "python",
   "pygments_lexer": "ipython3",
   "version": "3.8.12"
  }
 },
 "nbformat": 4,
 "nbformat_minor": 2
}
